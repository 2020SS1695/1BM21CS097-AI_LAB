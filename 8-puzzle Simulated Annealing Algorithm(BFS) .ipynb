{
  "nbformat": 4,
  "nbformat_minor": 0,
  "metadata": {
    "colab": {
      "provenance": [],
      "authorship_tag": "ABX9TyOFqbxqTnd/JfViaD0YNCNT",
      "include_colab_link": true
    },
    "kernelspec": {
      "name": "python3",
      "display_name": "Python 3"
    },
    "language_info": {
      "name": "python"
    }
  },
  "cells": [
    {
      "cell_type": "markdown",
      "metadata": {
        "id": "view-in-github",
        "colab_type": "text"
      },
      "source": [
        "<a href=\"https://colab.research.google.com/github/2020SS1695/1BM21CS097-AI_LAB/blob/main/8-puzzle%20Simulated%20Annealing%20Algorithm(BFS)%20.ipynb\" target=\"_parent\"><img src=\"https://colab.research.google.com/assets/colab-badge.svg\" alt=\"Open In Colab\"/></a>"
      ]
    },
    {
      "cell_type": "code",
      "execution_count": 8,
      "metadata": {
        "colab": {
          "base_uri": "https://localhost:8080/"
        },
        "id": "oSSqyjT32lLY",
        "outputId": "65109ad6-abb5-485c-d4be-928716721732"
      },
      "outputs": [
        {
          "output_type": "stream",
          "name": "stdout",
          "text": [
            "Initial Board:  (1, 2, 3, 0, 4, 6, 7, 5, 8)\n",
            "Goal Board:  (1, 2, 3, 4, 5, 6, 7, 8, 0)\n",
            "Solution path:\n",
            "\n",
            "1 | 2 | 3\n",
            "------------\n",
            "4 | 0 | 6\n",
            "------------\n",
            "7 | 5 | 8\n",
            "__________________________\n",
            "\n",
            "1 | 2 | 3\n",
            "------------\n",
            "4 | 5 | 6\n",
            "------------\n",
            "7 | 0 | 8\n",
            "__________________________\n",
            "\n",
            "1 | 2 | 3\n",
            "------------\n",
            "4 | 5 | 6\n",
            "------------\n",
            "7 | 8 | 0\n",
            "__________________________\n"
          ]
        }
      ],
      "source": [
        "from collections import deque\n",
        "\n",
        "def bfs_8puzzle(initial_state, goal_state):\n",
        "    queue = deque([(initial_state, [])])\n",
        "\n",
        "    visited = set()\n",
        "\n",
        "    while queue:\n",
        "        current_state, path = queue.popleft()\n",
        "\n",
        "        if current_state == goal_state:\n",
        "            return path\n",
        "\n",
        "        visited.add(current_state)\n",
        "\n",
        "\n",
        "        zero_index = current_state.index(0)\n",
        "        row, col = zero_index // 3, zero_index % 3\n",
        "\n",
        "\n",
        "        directions = [(-1, 0), (1, 0), (0, -1), (0, 1)]\n",
        "        for dr, dc in directions:\n",
        "            new_row, new_col = row + dr, col + dc\n",
        "\n",
        "            if 0 <= new_row < 3 and 0 <= new_col < 3:\n",
        "                new_index = new_row * 3 + new_col\n",
        "\n",
        "\n",
        "                new_state = list(current_state)\n",
        "                new_state[zero_index], new_state[new_index] = new_state[new_index], new_state[zero_index]\n",
        "                new_state = tuple(new_state)\n",
        "\n",
        "                if new_state not in visited:\n",
        "                    queue.append((new_state, path + [new_state]))\n",
        "                    visited.add(new_state)\n",
        "\n",
        "    return None\n",
        "\n",
        "\n",
        "initial = (1, 2, 3, 0, 4, 6, 7, 5, 8)\n",
        "goal = (1, 2, 3, 4, 5, 6, 7, 8, 0)\n",
        "\n",
        "solution = bfs_8puzzle(initial, goal)\n",
        "print(\"Initial Board: \",initial)\n",
        "print(\"Goal Board: \",goal)\n",
        "if solution:\n",
        "    print(\"Solution path:\")\n",
        "    for s in solution:\n",
        "        print()\n",
        "        print(s[0],\"|\",s[1],\"|\",s[2])\n",
        "        print(\"------------\")\n",
        "        print(s[3],\"|\",s[4],\"|\",s[5])\n",
        "        print(\"------------\")\n",
        "        print(s[6],\"|\",s[7],\"|\",s[8])\n",
        "        print(\"__________________________\")\n",
        "else:\n",
        "    print(\"No solution found.\")"
      ]
    }
  ]
}