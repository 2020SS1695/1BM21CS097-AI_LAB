{
  "nbformat": 4,
  "nbformat_minor": 0,
  "metadata": {
    "colab": {
      "provenance": [],
      "authorship_tag": "ABX9TyP0J3DLCm6h5j6tRGJwq2vX",
      "include_colab_link": true
    },
    "kernelspec": {
      "name": "python3",
      "display_name": "Python 3"
    },
    "language_info": {
      "name": "python"
    }
  },
  "cells": [
    {
      "cell_type": "markdown",
      "metadata": {
        "id": "view-in-github",
        "colab_type": "text"
      },
      "source": [
        "<a href=\"https://colab.research.google.com/github/2020SS1695/1BM21CS097-AI_LAB/blob/main/Solve%208-puzzle%20A*%20Search%20Alg.ipynb\" target=\"_parent\"><img src=\"https://colab.research.google.com/assets/colab-badge.svg\" alt=\"Open In Colab\"/></a>"
      ]
    },
    {
      "cell_type": "code",
      "execution_count": 2,
      "metadata": {
        "colab": {
          "base_uri": "https://localhost:8080/"
        },
        "id": "wns3xxRx1PjP",
        "outputId": "bdb9c86a-ad12-45ab-8aa6-0b9013695dda"
      },
      "outputs": [
        {
          "output_type": "stream",
          "name": "stdout",
          "text": [
            "Solution Found!\n",
            "[1, 2, 3]\n",
            "[0, 4, 6]\n",
            "[7, 5, 8]\n",
            "\n",
            "[1, 2, 3]\n",
            "[4, 0, 6]\n",
            "[7, 5, 8]\n",
            "\n",
            "[1, 2, 3]\n",
            "[4, 5, 6]\n",
            "[7, 0, 8]\n",
            "\n",
            "[1, 2, 3]\n",
            "[4, 5, 6]\n",
            "[7, 8, 0]\n",
            "\n"
          ]
        }
      ],
      "source": [
        "import heapq\n",
        "\n",
        "class PuzzleNode:\n",
        "    def __init__(self, state, parent=None, move=0):\n",
        "        self.state = state\n",
        "        self.parent = parent\n",
        "        self.move = move\n",
        "        self.cost = self.calculate_cost()\n",
        "\n",
        "    def calculate_cost(self):\n",
        "        total_cost = 0\n",
        "        goal_state = [[1, 2, 3], [4, 5, 6], [7, 8, 0]]\n",
        "        for i in range(3):\n",
        "            for j in range(3):\n",
        "                if self.state[i][j] != 0:\n",
        "                    value = self.state[i][j]\n",
        "                    if any(value in row for row in goal_state):\n",
        "                        row, col = divmod(next((idx for idx, row in enumerate(goal_state) if value in row), None), 3)\n",
        "                        if row is not None:\n",
        "                            total_cost += abs(i - row) + abs(j - col)\n",
        "                    else:\n",
        "                        raise ValueError(f\"{value} is not in goal state\")\n",
        "        return self.move + total_cost\n",
        "\n",
        "    def __lt__(self, other):\n",
        "        return self.cost < other.cost\n",
        "\n",
        "def get_blank_position(state):\n",
        "    for i in range(3):\n",
        "        for j in range(3):\n",
        "            if state[i][j] == 0:\n",
        "                return i, j\n",
        "\n",
        "def is_valid_move(i, j):\n",
        "    return 0 <= i < 3 and 0 <= j < 3\n",
        "\n",
        "def generate_successors(node):\n",
        "    successors = []\n",
        "    i, j = get_blank_position(node.state)\n",
        "\n",
        "    for move_i, move_j in [(0, 1), (1, 0), (0, -1), (-1, 0)]:\n",
        "        new_i, new_j = i + move_i, j + move_j\n",
        "\n",
        "        if is_valid_move(new_i, new_j):\n",
        "            new_state = [row[:] for row in node.state]\n",
        "            new_state[i][j], new_state[new_i][new_j] = new_state[new_i][new_j], new_state[i][j]\n",
        "            successors.append(PuzzleNode(new_state, parent=node, move=node.move + 1))\n",
        "\n",
        "    return successors\n",
        "\n",
        "def print_solution(solution_node):\n",
        "    path = []\n",
        "    while solution_node:\n",
        "        path.insert(0, solution_node.state)\n",
        "        solution_node = solution_node.parent\n",
        "\n",
        "    for state in path:\n",
        "        print_state(state)\n",
        "\n",
        "def print_state(state):\n",
        "    for row in state:\n",
        "        print(row)\n",
        "    print()\n",
        "\n",
        "def solve_8_puzzle(initial_state):\n",
        "    initial_node = PuzzleNode(initial_state)\n",
        "    priority_queue = [initial_node]\n",
        "\n",
        "    visited_states = set()\n",
        "\n",
        "    while priority_queue:\n",
        "        current_node = heapq.heappop(priority_queue)\n",
        "\n",
        "        if current_node.state == [[1, 2, 3], [4, 5, 6], [7, 8, 0]]:\n",
        "            print(\"Solution Found!\")\n",
        "            print_solution(current_node)\n",
        "            return\n",
        "\n",
        "        visited_states.add(tuple(map(tuple, current_node.state)))\n",
        "\n",
        "        successors = generate_successors(current_node)\n",
        "        for successor in successors:\n",
        "            if tuple(map(tuple, successor.state)) not in visited_states:\n",
        "                heapq.heappush(priority_queue, successor)\n",
        "\n",
        "    print(\"No solution found.\")\n",
        "\n",
        "# Example usage:\n",
        "initial_state = [[1, 2, 3], [0, 4, 6], [7, 5, 8]]\n",
        "solve_8_puzzle(initial_state)"
      ]
    }
  ]
}