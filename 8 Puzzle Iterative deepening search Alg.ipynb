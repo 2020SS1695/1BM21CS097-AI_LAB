{
  "nbformat": 4,
  "nbformat_minor": 0,
  "metadata": {
    "colab": {
      "provenance": [],
      "authorship_tag": "ABX9TyMqcc0wS//9+dglqUfHFLQY",
      "include_colab_link": true
    },
    "kernelspec": {
      "name": "python3",
      "display_name": "Python 3"
    },
    "language_info": {
      "name": "python"
    }
  },
  "cells": [
    {
      "cell_type": "markdown",
      "metadata": {
        "id": "view-in-github",
        "colab_type": "text"
      },
      "source": [
        "<a href=\"https://colab.research.google.com/github/2020SS1695/1BM21CS097-AI_LAB/blob/main/8%20Puzzle%20Iterative%20deepening%20search%20Alg.ipynb\" target=\"_parent\"><img src=\"https://colab.research.google.com/assets/colab-badge.svg\" alt=\"Open In Colab\"/></a>"
      ]
    },
    {
      "cell_type": "code",
      "execution_count": 7,
      "metadata": {
        "colab": {
          "base_uri": "https://localhost:8080/"
        },
        "id": "oSSqyjT32lLY",
        "outputId": "a03d1f94-c27a-47ee-c216-f4b913fbe0af"
      },
      "outputs": [
        {
          "output_type": "stream",
          "name": "stdout",
          "text": [
            "Solution:\n",
            "right\n",
            "right\n"
          ]
        }
      ],
      "source": [
        "class PuzzleNode:\n",
        "    def __init__(self, state, parent=None, action=None):\n",
        "        self.state = state\n",
        "        self.parent = parent\n",
        "        self.action = action\n",
        "\n",
        "def get_blank_position(state):\n",
        "    for i in range(3):\n",
        "        for j in range(3):\n",
        "            if state[i][j] == 0:\n",
        "                return i, j\n",
        "\n",
        "def is_goal_state(state):\n",
        "    goal_state = [[1, 2, 3], [4, 5, 6], [7, 8, 0]]\n",
        "    return state == goal_state\n",
        "\n",
        "def get_possible_actions(blank_row, blank_col):\n",
        "    actions = []\n",
        "    if blank_row > 0:\n",
        "        actions.append('up')\n",
        "    if blank_row < 2:\n",
        "        actions.append('down')\n",
        "    if blank_col > 0:\n",
        "        actions.append('left')\n",
        "    if blank_col < 2:\n",
        "        actions.append('right')\n",
        "    return actions\n",
        "\n",
        "def apply_action(state, action):\n",
        "    blank_row, blank_col = get_blank_position(state)\n",
        "    new_state = [row[:] for row in state]\n",
        "\n",
        "    if action == 'up':\n",
        "        new_state[blank_row][blank_col], new_state[blank_row - 1][blank_col] = (\n",
        "            new_state[blank_row - 1][blank_col],\n",
        "            new_state[blank_row][blank_col],\n",
        "        )\n",
        "    elif action == 'down':\n",
        "        new_state[blank_row][blank_col], new_state[blank_row + 1][blank_col] = (\n",
        "            new_state[blank_row + 1][blank_col],\n",
        "            new_state[blank_row][blank_col],\n",
        "        )\n",
        "    elif action == 'left':\n",
        "        new_state[blank_row][blank_col], new_state[blank_row][blank_col - 1] = (\n",
        "            new_state[blank_row][blank_col - 1],\n",
        "            new_state[blank_row][blank_col],\n",
        "        )\n",
        "    elif action == 'right':\n",
        "        new_state[blank_row][blank_col], new_state[blank_row][blank_col + 1] = (\n",
        "            new_state[blank_row][blank_col + 1],\n",
        "            new_state[blank_row][blank_col],\n",
        "        )\n",
        "\n",
        "    return new_state\n",
        "\n",
        "def iddfs(initial_state):\n",
        "    max_depth = 31  # Maximum depth for the 8-puzzle problem\n",
        "    root_node = PuzzleNode(initial_state)\n",
        "    for depth in range(max_depth):\n",
        "        result = dls(root_node, depth)\n",
        "        if result is not None:\n",
        "            return result\n",
        "    return None\n",
        "\n",
        "def dls(node, depth):\n",
        "    if depth == 0 and is_goal_state(node.state):\n",
        "        return node\n",
        "    elif depth > 0:\n",
        "        blank_row, blank_col = get_blank_position(node.state)\n",
        "        possible_actions = get_possible_actions(blank_row, blank_col)\n",
        "        for action in possible_actions:\n",
        "            child_state = apply_action(node.state, action)\n",
        "            child_node = PuzzleNode(child_state, node, action)\n",
        "            result = dls(child_node, depth - 1)\n",
        "            if result is not None:\n",
        "                return result\n",
        "    return None\n",
        "\n",
        "def print_solution(solution_node):\n",
        "    actions = []\n",
        "    while solution_node.parent is not None:\n",
        "        actions.insert(0, solution_node.action)\n",
        "        solution_node = solution_node.parent\n",
        "    for action in actions:\n",
        "        print(action)\n",
        "\n",
        "if __name__ == \"__main__\":\n",
        "    # Example initial state (you can modify this)\n",
        "    initial_state = [[1, 2, 3], [4, 5, 6], [0, 7, 8]]\n",
        "\n",
        "    # Solve the puzzle using IDDFS\n",
        "    solution_node = iddfs(initial_state)\n",
        "\n",
        "    # Print the solution\n",
        "    if solution_node is not None:\n",
        "        print(\"Solution:\")\n",
        "        print_solution(solution_node)\n",
        "    else:\n",
        "        print(\"No solution found.\")\n"
      ]
    }
  ]
}