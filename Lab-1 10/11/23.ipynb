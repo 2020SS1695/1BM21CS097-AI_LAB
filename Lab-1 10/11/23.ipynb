{
  "nbformat": 4,
  "nbformat_minor": 0,
  "metadata": {
    "colab": {
      "provenance": [],
      "authorship_tag": "ABX9TyObOM0Q40WC36IPYRJWyL9e",
      "include_colab_link": true
    },
    "kernelspec": {
      "name": "python3",
      "display_name": "Python 3"
    },
    "language_info": {
      "name": "python"
    }
  },
  "cells": [
    {
      "cell_type": "markdown",
      "metadata": {
        "id": "view-in-github",
        "colab_type": "text"
      },
      "source": [
        "<a href=\"https://colab.research.google.com/github/2020SS1695/1BM21CS097-AI_LAB/blob/main/Lab-1%2010/11/23.ipynb\" target=\"_parent\"><img src=\"https://colab.research.google.com/assets/colab-badge.svg\" alt=\"Open In Colab\"/></a>"
      ]
    },
    {
      "cell_type": "code",
      "execution_count": 8,
      "metadata": {
        "colab": {
          "base_uri": "https://localhost:8080/"
        },
        "id": "IhAuRJpkXdFx",
        "outputId": "24c8be77-4918-4b97-a916-37cd63f49018"
      },
      "outputs": [
        {
          "output_type": "stream",
          "name": "stdout",
          "text": [
            "enter the age10\n",
            "He is the Children\n"
          ]
        }
      ],
      "source": [
        "num = int(input('enter the number'))\n",
        "temp = num\n",
        "reverse = 0\n",
        "while num > 0:\n",
        "    remainder = num % 10\n",
        "    reverse = (reverse * 10) + remainder\n",
        "    num = num // 10\n",
        "\n",
        "print(reverse)"
      ]
    },
    {
      "cell_type": "code",
      "source": [
        "n=int(input('enter the number'))\n",
        "for i in range(0,11):\n",
        "    print(n ,'*', i ,'=',   n*i  )\n",
        "\n"
      ],
      "metadata": {
        "id": "yYT2Px8jZ9lo"
      },
      "execution_count": null,
      "outputs": []
    },
    {
      "cell_type": "code",
      "source": [
        "n=int(input('enter tthe number'))\n",
        "for i in range(1,n):\n",
        "    for j in range(1,i):\n",
        "\n",
        "        print(j)"
      ],
      "metadata": {
        "id": "AZ00F8VupuxV"
      },
      "execution_count": null,
      "outputs": []
    }
  ]
}