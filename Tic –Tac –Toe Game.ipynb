{
  "nbformat": 4,
  "nbformat_minor": 0,
  "metadata": {
    "colab": {
      "provenance": [],
      "authorship_tag": "ABX9TyOswsZ6sAK0sPMeXOlbFt4L",
      "include_colab_link": true
    },
    "kernelspec": {
      "name": "python3",
      "display_name": "Python 3"
    },
    "language_info": {
      "name": "python"
    }
  },
  "cells": [
    {
      "cell_type": "markdown",
      "metadata": {
        "id": "view-in-github",
        "colab_type": "text"
      },
      "source": [
        "<a href=\"https://colab.research.google.com/github/2020SS1695/1BM21CS097-AI_LAB/blob/main/Tic%20%E2%80%93Tac%20%E2%80%93Toe%20Game.ipynb\" target=\"_parent\"><img src=\"https://colab.research.google.com/assets/colab-badge.svg\" alt=\"Open In Colab\"/></a>"
      ]
    },
    {
      "cell_type": "code",
      "execution_count": 9,
      "metadata": {
        "colab": {
          "base_uri": "https://localhost:8080/"
        },
        "id": "oSSqyjT32lLY",
        "outputId": "6e4750f4-e7c0-45b9-9ab0-5b679ce19dfa"
      },
      "outputs": [
        {
          "output_type": "stream",
          "name": "stdout",
          "text": [
            "|   |   |   |\n",
            "|   |   |   |\n",
            "|   |   |   |\n",
            "Available moves: [0, 1, 2, 3, 4, 5, 6, 7, 8]\n",
            "Player X, enter your move (0-8): 0\n",
            "| X |   |   |\n",
            "|   |   |   |\n",
            "|   |   |   |\n",
            "Available moves: [1, 2, 3, 4, 5, 6, 7, 8]\n",
            "Player O, enter your move (0-8): 5\n",
            "| X |   |   |\n",
            "|   |   | O |\n",
            "|   |   |   |\n",
            "Available moves: [1, 2, 3, 4, 6, 7, 8]\n",
            "Player X, enter your move (0-8): 3\n",
            "| X |   |   |\n",
            "| X |   | O |\n",
            "|   |   |   |\n",
            "Available moves: [1, 2, 4, 6, 7, 8]\n",
            "Player O, enter your move (0-8): 6\n",
            "| X |   |   |\n",
            "| X |   | O |\n",
            "| O |   |   |\n",
            "Available moves: [1, 2, 4, 7, 8]\n",
            "Player X, enter your move (0-8): 4\n",
            "| X |   |   |\n",
            "| X | X | O |\n",
            "| O |   |   |\n",
            "Available moves: [1, 2, 7, 8]\n",
            "Player O, enter your move (0-8): 8\n",
            "| X |   |   |\n",
            "| X | X | O |\n",
            "| O |   | O |\n",
            "Available moves: [1, 2, 7]\n",
            "Player X, enter your move (0-8): 7\n",
            "| X |   |   |\n",
            "| X | X | O |\n",
            "| O | X | O |\n",
            "Available moves: [1, 2]\n",
            "Player O, enter your move (0-8): 2\n",
            "| X |   | O |\n",
            "| X | X | O |\n",
            "| O | X | O |\n",
            "Player O wins!\n"
          ]
        }
      ],
      "source": [
        "class TicTacToe:\n",
        "    def __init__(self):\n",
        "        self.board = [' ' for _ in range(9)]  # Representing the Tic-Tac-Toe board as a list\n",
        "\n",
        "    def print_board(self):\n",
        "        for row in [self.board[i * 3:(i + 1) * 3] for i in range(3)]:\n",
        "            print('| ' + ' | '.join(row) + ' |')\n",
        "\n",
        "    def available_moves(self):\n",
        "        return [i for i, spot in enumerate(self.board) if spot == ' ']\n",
        "\n",
        "    def make_move(self, position, player):\n",
        "        self.board[position] = player\n",
        "\n",
        "    def is_winner(self, player):\n",
        "        # Check rows, columns, and diagonals for a win\n",
        "        win_conditions = ([0, 1, 2], [3, 4, 5], [6, 7, 8],\n",
        "                          [0, 3, 6], [1, 4, 7], [2, 5, 8],\n",
        "                          [0, 4, 8], [2, 4, 6])\n",
        "\n",
        "        for condition in win_conditions:\n",
        "            if all(self.board[i] == player for i in condition):\n",
        "                return True\n",
        "        return False\n",
        "\n",
        "    def is_board_full(self):\n",
        "        return all(spot != ' ' for spot in self.board)\n",
        "\n",
        "def play_game():\n",
        "    game = TicTacToe()\n",
        "    current_player = 'X'\n",
        "\n",
        "    while True:\n",
        "        game.print_board()\n",
        "        available_moves = game.available_moves()\n",
        "        print(f\"Available moves: {available_moves}\")\n",
        "\n",
        "        move = int(input(f\"Player {current_player}, enter your move (0-8): \"))\n",
        "\n",
        "        if move not in available_moves:\n",
        "            print(\"Invalid move. Try again.\")\n",
        "            continue\n",
        "\n",
        "        game.make_move(move, current_player)\n",
        "\n",
        "        if game.is_winner(current_player):\n",
        "            game.print_board()\n",
        "            print(f\"Player {current_player} wins!\")\n",
        "            break\n",
        "\n",
        "        if game.is_board_full():\n",
        "            game.print_board()\n",
        "            print(\"It's a tie!\")\n",
        "            break\n",
        "\n",
        "        current_player = 'O' if current_player == 'X' else 'X'\n",
        "\n",
        "if __name__ == \"__main__\":\n",
        "    play_game()\n"
      ]
    }
  ]
}